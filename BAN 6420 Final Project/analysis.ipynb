{
 "cells": [
  {
   "cell_type": "markdown",
   "metadata": {},
   "source": [
    "Load Data in Jupyter Notebook"
   ]
  },
  {
   "cell_type": "code",
   "execution_count": null,
   "metadata": {},
   "outputs": [],
   "source": [
    "import pandas as pd\n",
    "import matplotlib.pyplot as plt\n",
    "import seaborn as sns\n",
    "\n",
    "# Load CSV file\n",
    "df = pd.read_csv(\"survey_data.csv\")\n",
    "\n",
    "# Display first few rows\n",
    "df.head()"
   ]
  },
  {
   "cell_type": "markdown",
   "metadata": {},
   "source": [
    "Visualization 1: Age Groups with Highest Income"
   ]
  },
  {
   "cell_type": "code",
   "execution_count": null,
   "metadata": {},
   "outputs": [],
   "source": [
    "\n",
    "plt.figure(figsize=(10, 5))\n",
    "sns.scatterplot(x=df[\"age\"], y=df[\"income\"], alpha=0.6)\n",
    "plt.title(\"Income Distribution by Age\")\n",
    "plt.xlabel(\"Age\")\n",
    "plt.ylabel(\"Total Income\")\n",
    "plt.grid(True)\n",
    "plt.savefig(\"images/income_by_age.png\")  # Saves as an image \n",
    "plt.show()"
   ]
  },
  {
   "cell_type": "markdown",
   "metadata": {},
   "source": [
    "Visualization 2: Gender-Based Spending Distribution"
   ]
  },
  {
   "cell_type": "code",
   "execution_count": null,
   "metadata": {},
   "outputs": [],
   "source": [
    "expense_categories = [\"utilities\", \"entertainment\", \"school_fees\", \"shopping\", \"healthcare\"]\n",
    "\n",
    "# Melt the dataframe to prepare for seaborn\n",
    "df_melted = df.melt(id_vars=[\"gender\"], value_vars=expense_categories, var_name=\"Expense Category\", value_name=\"Amount Spent\")\n",
    "\n",
    "plt.figure(figsize=(12, 6))\n",
    "sns.boxplot(x=\"Expense Category\", y=\"Amount Spent\", hue=\"gender\", data=df_melted)\n",
    "plt.title(\"Spending Distribution by Gender\")\n",
    "plt.xticks(rotation=15)\n",
    "plt.legend(title=\"Gender\")\n",
    "plt.savefig(\"images/spending_by_gender.png\")  # Saves as an image\n",
    "plt.show()\n"
   ]
  }
 ],
 "metadata": {
  "kernelspec": {
   "display_name": "base",
   "language": "python",
   "name": "python3"
  },
  "language_info": {
   "codemirror_mode": {
    "name": "ipython",
    "version": 3
   },
   "file_extension": ".py",
   "mimetype": "text/x-python",
   "name": "python",
   "nbconvert_exporter": "python",
   "pygments_lexer": "ipython3",
   "version": "3.12.7"
  }
 },
 "nbformat": 4,
 "nbformat_minor": 2
}
