{
 "cells": [
  {
   "cell_type": "markdown",
   "metadata": {},
   "source": [
    "Load Data in Jupyter Notebook"
   ]
  },
  {
   "cell_type": "code",
   "execution_count": null,
   "metadata": {},
   "outputs": [],
   "source": [
    "import pandas as pd\n",
    "import matplotlib.pyplot as plt\n",
    "import seaborn as sns\n",
    "\n",
    "# Load the CSV data\n",
    "df = pd.read_csv(\"data/survey_data.csv\")\n",
    "\n",
    "# Convert expenses column from string to dictionary if necessary\n",
    "def convert_expenses(expense_str):\n",
    "    try:\n",
    "        return eval(expense_str) if isinstance(expense_str, str) else expense_str\n",
    "    except:\n",
    "        return {}\n",
    "\n",
    "df[\"expenses\"] = df[\"expenses\"].apply(convert_expenses)\n",
    "\n",
    "# Extract expense categories into separate columns\n",
    "expense_categories = [\"utilities\", \"entertainment\", \"school_fees\", \"shopping\", \"healthcare\"]\n",
    "for category in expense_categories:\n",
    "    df[category] = df[\"expenses\"].apply(lambda x: x.get(category, 0))\n"
   ]
  },
  {
   "cell_type": "markdown",
   "metadata": {},
   "source": [
    "Visualization 1: Age Groups with Highest Income"
   ]
  },
  {
   "cell_type": "code",
   "execution_count": null,
   "metadata": {},
   "outputs": [],
   "source": [
    "# Visualization 1: Ages with the highest income\n",
    "plt.figure(figsize=(10, 5))\n",
    "sns.barplot(x=\"age\", y=\"income\", data=df, estimator=sum, ci=None)\n",
    "plt.title(\"Total Income by Age\")\n",
    "plt.xlabel(\"Age\")\n",
    "plt.ylabel(\"Total Income\")\n",
    "plt.xticks(rotation=45)\n",
    "plt.savefig(\"visualizations/income_by_age.png\")\n",
    "plt.show()"
   ]
  },
  {
   "cell_type": "markdown",
   "metadata": {},
   "source": [
    "Visualization 2: Gender-Based Spending Distribution"
   ]
  },
  {
   "cell_type": "code",
   "execution_count": null,
   "metadata": {},
   "outputs": [],
   "source": [
    "# Visualization 2: Gender distribution across spending categories\n",
    "df_melted = df.melt(id_vars=[\"gender\"], value_vars=expense_categories, var_name=\"Expense Category\", value_name=\"Amount\")\n",
    "plt.figure(figsize=(12, 6))\n",
    "sns.boxplot(x=\"Expense Category\", y=\"Amount\", hue=\"gender\", data=df_melted)\n",
    "plt.title(\"Spending Distribution by Gender\")\n",
    "plt.xlabel(\"Expense Category\")\n",
    "plt.ylabel(\"Amount Spent\")\n",
    "plt.xticks(rotation=45)\n",
    "plt.legend(title=\"Gender\")\n",
    "plt.savefig(\"visualizations/spending_by_gender.png\")\n",
    "plt.show()"
   ]
  },
  {
   "cell_type": "markdown",
   "metadata": {},
   "source": [
    "Save Visualizations"
   ]
  },
  {
   "cell_type": "code",
   "execution_count": null,
   "metadata": {},
   "outputs": [],
   "source": [
    "plt.savefig(\"images/spending_by_gender.png\")\n",
    "plt.savefig(\"images/income_by_age.png\")\n",
    "\n",
    "print(\"Visualizations generated and saved successfully!\")"
   ]
  }
 ],
 "metadata": {
  "kernelspec": {
   "display_name": "base",
   "language": "python",
   "name": "python3"
  },
  "language_info": {
   "codemirror_mode": {
    "name": "ipython",
    "version": 3
   },
   "file_extension": ".py",
   "mimetype": "text/x-python",
   "name": "python",
   "nbconvert_exporter": "python",
   "pygments_lexer": "ipython3",
   "version": "3.12.7"
  }
 },
 "nbformat": 4,
 "nbformat_minor": 2
}
